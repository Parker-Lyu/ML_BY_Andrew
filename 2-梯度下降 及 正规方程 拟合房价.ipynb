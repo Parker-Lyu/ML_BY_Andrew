{
 "cells": [
  {
   "cell_type": "code",
   "execution_count": 1,
   "metadata": {
    "collapsed": true
   },
   "outputs": [],
   "source": [
    "import numpy as np\n",
    "import matplotlib.pyplot as plt\n",
    "from pylab import mpl\n",
    "mpl.rcParams['font.sans-serif'] = ['FangSong'] # 指定默认字体\n",
    "mpl.rcParams['axes.unicode_minus'] = False # 解决保存图像是负号'-'显示为方块的问题"
   ]
  },
  {
   "cell_type": "markdown",
   "metadata": {},
   "source": [
    "## 生成房价数据"
   ]
  },
  {
   "cell_type": "code",
   "execution_count": 2,
   "metadata": {},
   "outputs": [
    {
     "data": {
      "text/plain": [
       "array([435, 723, 874, 875, 253, 112, 840, 989, 741, 259, 170, 370, 531,\n",
       "       426, 746, 397, 709, 392, 572, 789, 101, 541, 368, 653, 196, 127,\n",
       "       649, 362, 388, 974, 306, 693, 605, 724, 847, 854, 346, 574, 322,\n",
       "       799, 669, 477, 295, 469, 901, 513, 318, 375, 804, 965, 773, 903,\n",
       "       276, 941, 479, 652, 394, 771, 428, 257, 144, 558, 474, 359, 379,\n",
       "       578, 676, 871, 349, 264, 605, 752, 669, 192, 768, 489, 951, 309,\n",
       "       851, 983, 854, 137, 479, 919, 957, 794, 251, 987, 273, 141, 518,\n",
       "       969, 519, 744, 585, 328, 749, 628, 247, 283])"
      ]
     },
     "execution_count": 2,
     "metadata": {},
     "output_type": "execute_result"
    }
   ],
   "source": [
    "# 面积\n",
    "areas = np.random.randint(100,1000,size=100)\n",
    "areas"
   ]
  },
  {
   "cell_type": "code",
   "execution_count": 3,
   "metadata": {
    "collapsed": true
   },
   "outputs": [],
   "source": [
    "# 线性函数的参数\n",
    "a = 0.4\n",
    "b = 100\n",
    "# 噪音\n",
    "noises = np.random.random(100)*200"
   ]
  },
  {
   "cell_type": "code",
   "execution_count": 4,
   "metadata": {},
   "outputs": [
    {
     "data": {
      "image/png": "[encoded data removed]",
      "text/plain": [
       "<Figure size 720x576 with 1 Axes>"
      ]
     },
     "metadata": {},
     "output_type": "display_data"
    }
   ],
   "source": [
    "# 房价\n",
    "prices = areas * a + b + noises\n",
    "plt.figure(figsize=(10,8))\n",
    "plt.scatter(areas, prices)\n",
    "plt.title(r'房价散点图')\n",
    "plt.ylim(0,800)\n",
    "plt.show()"
   ]
  },
  {
   "cell_type": "markdown",
   "metadata": {},
   "source": [
    "## 梯度下降，求线性函数参数值"
   ]
  },
  {
   "cell_type": "code",
   "execution_count": 5,
   "metadata": {},
   "outputs": [
    {
     "name": "stdout",
     "output_type": "stream",
     "text": [
      "Itera:0   ,cost:16345823.5000  , A:6.4886, B:9.9948\n",
      "Itera:1   ,cost:6341543.4346   , A:4.3019, B:9.9916\n",
      "Itera:2   ,cost:2461941.8953   , A:2.9402, B:9.9896\n",
      "Itera:3   ,cost:957455.0147    , A:2.0922, B:9.9884\n",
      "Itera:4   ,cost:374023.7649    , A:1.5641, B:9.9877\n",
      "Itera:5   ,cost:147772.5238    , A:1.2353, B:9.9872\n",
      "Itera:6   ,cost:60033.6098     , A:1.0305, B:9.9869\n",
      "Itera:7   ,cost:26008.9694     , A:0.9030, B:9.9868\n",
      "Itera:8   ,cost:12814.4114     , A:0.8236, B:9.9867\n",
      "Itera:9   ,cost:7697.6381      , A:0.7741, B:9.9866\n",
      "Itera:10  ,cost:5713.3827      , A:0.7433, B:9.9866\n",
      "Itera:11  ,cost:4943.8994      , A:0.7241, B:9.9866\n",
      "Itera:12  ,cost:4645.4977      , A:0.7122, B:9.9866\n",
      "Itera:13  ,cost:4529.7787      , A:0.7048, B:9.9867\n",
      "Itera:14  ,cost:4484.9029      , A:0.7001, B:9.9867\n",
      "Itera:15  ,cost:4467.4998      , A:0.6973, B:9.9867\n",
      "Itera:16  ,cost:4460.7504      , A:0.6955, B:9.9867\n",
      "Itera:17  ,cost:4458.1324      , A:0.6943, B:9.9868\n",
      "Itera:18  ,cost:4457.1166      , A:0.6936, B:9.9868\n",
      "Itera:19  ,cost:4456.7221      , A:0.6932, B:9.9868\n",
      "Itera:20  ,cost:4456.5685      , A:0.6929, B:9.9869\n",
      "Itera:21  ,cost:4456.5084      , A:0.6928, B:9.9869\n",
      "Itera:22  ,cost:4456.4845      , A:0.6927, B:9.9869\n",
      "Itera:23  ,cost:4456.4747      , A:0.6926, B:9.9870\n",
      "Itera:24  ,cost:4456.4703      , A:0.6926, B:9.9870\n",
      "Itera:25  ,cost:4456.4680      , A:0.6925, B:9.9870\n",
      "Itera:26  ,cost:4456.4665      , A:0.6925, B:9.9870\n",
      "Itera:27  ,cost:4456.4654      , A:0.6925, B:9.9871\n",
      "Itera:28  ,cost:4456.4644      , A:0.6925, B:9.9871\n",
      "Itera:29  ,cost:4456.4634      , A:0.6925, B:9.9871\n",
      "Itera:30  ,cost:4456.4624      , A:0.6925, B:9.9872\n",
      "Itera:31  ,cost:4456.4615      , A:0.6925, B:9.9872\n",
      "Itera:32  ,cost:4456.4605      , A:0.6925, B:9.9872\n",
      "Itera:33  ,cost:4456.4596      , A:0.6925, B:9.9873\n",
      "Itera:34  ,cost:4456.4587      , A:0.6925, B:9.9873\n",
      "Itera:35  ,cost:4456.4577      , A:0.6925, B:9.9873\n",
      "Itera:36  ,cost:4456.4568      , A:0.6925, B:9.9874\n",
      "Itera:37  ,cost:4456.4558      , A:0.6925, B:9.9874\n",
      "Itera:38  ,cost:4456.4549      , A:0.6925, B:9.9874\n",
      "Itera:39  ,cost:4456.4539      , A:0.6925, B:9.9874\n"
     ]
    }
   ],
   "source": [
    "# 初始化两个参数及设置学习率\n",
    "A = 10.\n",
    "B = 10.\n",
    "lr = 0.000001\n",
    "for i in range(40):\n",
    "    #计算房价\n",
    "    calcu_prices = A * areas + B\n",
    "    # 计算代价函数\n",
    "    cost = (np.square(calcu_prices - prices)).mean() * 0.5\n",
    "    # 计算更正量\n",
    "    deltA = ((calcu_prices-prices)*areas).mean()\n",
    "    deltB = (calcu_prices-prices).mean()\n",
    "    A = A - lr*deltA\n",
    "    B = B - lr*deltB\n",
    "    print(\"Itera:{:<3d} ,cost:{:<15.4f}, A:{:<.4f}, B:{:<.4f}\".format(i, cost, A, B))"
   ]
  },
  {
   "cell_type": "markdown",
   "metadata": {},
   "source": [
    "## 拟合结果"
   ]
  },
  {
   "cell_type": "code",
   "execution_count": 6,
   "metadata": {},
   "outputs": [
    {
     "data": {
      "image/png": "[encoded data removed]",
      "text/plain": [
       "<Figure size 720x576 with 1 Axes>"
      ]
     },
     "metadata": {},
     "output_type": "display_data"
    }
   ],
   "source": [
    "pre_prices = A * areas + B\n",
    "plt.figure(figsize=(10,8))\n",
    "plt.scatter(areas, prices)\n",
    "plt.plot(areas, pre_prices,'r-')\n",
    "plt.ylim(0,800)\n",
    "plt.show()"
   ]
  },
  {
   "cell_type": "markdown",
   "metadata": {
    "collapsed": true
   },
   "source": [
    "# 正规方程拟合房价"
   ]
  },
  {
   "cell_type": "code",
   "execution_count": 7,
   "metadata": {
    "collapsed": true
   },
   "outputs": [],
   "source": [
    "def normalEqn(X, y):\n",
    "    theta = np.linalg.inv(X.T@X)@X.T@y    #X.T@X 等价于 X.T.dot(X)\n",
    "    return theta"
   ]
  },
  {
   "cell_type": "code",
   "execution_count": 8,
   "metadata": {
    "scrolled": true
   },
   "outputs": [
    {
     "data": {
      "text/plain": [
       "array([[  1, 435],\n",
       "       [  1, 723],\n",
       "       [  1, 874],\n",
       "       [  1, 875],\n",
       "       [  1, 253],\n",
       "       [  1, 112],\n",
       "       [  1, 840],\n",
       "       [  1, 989],\n",
       "       [  1, 741],\n",
       "       [  1, 259],\n",
       "       [  1, 170],\n",
       "       [  1, 370],\n",
       "       [  1, 531],\n",
       "       [  1, 426],\n",
       "       [  1, 746],\n",
       "       [  1, 397],\n",
       "       [  1, 709],\n",
       "       [  1, 392],\n",
       "       [  1, 572],\n",
       "       [  1, 789],\n",
       "       [  1, 101],\n",
       "       [  1, 541],\n",
       "       [  1, 368],\n",
       "       [  1, 653],\n",
       "       [  1, 196],\n",
       "       [  1, 127],\n",
       "       [  1, 649],\n",
       "       [  1, 362],\n",
       "       [  1, 388],\n",
       "       [  1, 974],\n",
       "       [  1, 306],\n",
       "       [  1, 693],\n",
       "       [  1, 605],\n",
       "       [  1, 724],\n",
       "       [  1, 847],\n",
       "       [  1, 854],\n",
       "       [  1, 346],\n",
       "       [  1, 574],\n",
       "       [  1, 322],\n",
       "       [  1, 799],\n",
       "       [  1, 669],\n",
       "       [  1, 477],\n",
       "       [  1, 295],\n",
       "       [  1, 469],\n",
       "       [  1, 901],\n",
       "       [  1, 513],\n",
       "       [  1, 318],\n",
       "       [  1, 375],\n",
       "       [  1, 804],\n",
       "       [  1, 965],\n",
       "       [  1, 773],\n",
       "       [  1, 903],\n",
       "       [  1, 276],\n",
       "       [  1, 941],\n",
       "       [  1, 479],\n",
       "       [  1, 652],\n",
       "       [  1, 394],\n",
       "       [  1, 771],\n",
       "       [  1, 428],\n",
       "       [  1, 257],\n",
       "       [  1, 144],\n",
       "       [  1, 558],\n",
       "       [  1, 474],\n",
       "       [  1, 359],\n",
       "       [  1, 379],\n",
       "       [  1, 578],\n",
       "       [  1, 676],\n",
       "       [  1, 871],\n",
       "       [  1, 349],\n",
       "       [  1, 264],\n",
       "       [  1, 605],\n",
       "       [  1, 752],\n",
       "       [  1, 669],\n",
       "       [  1, 192],\n",
       "       [  1, 768],\n",
       "       [  1, 489],\n",
       "       [  1, 951],\n",
       "       [  1, 309],\n",
       "       [  1, 851],\n",
       "       [  1, 983],\n",
       "       [  1, 854],\n",
       "       [  1, 137],\n",
       "       [  1, 479],\n",
       "       [  1, 919],\n",
       "       [  1, 957],\n",
       "       [  1, 794],\n",
       "       [  1, 251],\n",
       "       [  1, 987],\n",
       "       [  1, 273],\n",
       "       [  1, 141],\n",
       "       [  1, 518],\n",
       "       [  1, 969],\n",
       "       [  1, 519],\n",
       "       [  1, 744],\n",
       "       [  1, 585],\n",
       "       [  1, 328],\n",
       "       [  1, 749],\n",
       "       [  1, 628],\n",
       "       [  1, 247],\n",
       "       [  1, 283]])"
      ]
     },
     "execution_count": 8,
     "metadata": {},
     "output_type": "execute_result"
    }
   ],
   "source": [
    "x0 = np.ones_like(areas)\n",
    "x0 = x0.reshape([-1,1])\n",
    "x1 = areas.reshape([-1,1])\n",
    "X_ = np.concatenate([x0,x1],1)\n",
    "X_"
   ]
  },
  {
   "cell_type": "code",
   "execution_count": 9,
   "metadata": {},
   "outputs": [],
   "source": [
    "y = prices.reshape([-1,1])\n",
    "theta = normalEqn(X_, y)"
   ]
  },
  {
   "cell_type": "code",
   "execution_count": 10,
   "metadata": {},
   "outputs": [
    {
     "data": {
      "text/plain": [
       "array([188.10056044,   0.42869984])"
      ]
     },
     "execution_count": 10,
     "metadata": {},
     "output_type": "execute_result"
    }
   ],
   "source": [
    "theta = np.squeeze(theta)\n",
    "theta"
   ]
  },
  {
   "cell_type": "code",
   "execution_count": 11,
   "metadata": {},
   "outputs": [
    {
     "data": {
      "image/png": "[encoded data removed]",
      "text/plain": [
       "<Figure size 432x288 with 1 Axes>"
      ]
     },
     "metadata": {},
     "output_type": "display_data"
    }
   ],
   "source": [
    "# x_lin = np.linspace(1,1000,1000)\n",
    "prices_pre = theta[1] * areas + theta[0]\n",
    "plt.scatter(areas, prices)\n",
    "plt.plot(areas, prices_pre, 'r-')\n",
    "plt.xlim(0,1000)\n",
    "plt.ylim(0,800)\n",
    "plt.show()"
   ]
  },
  {
   "cell_type": "code",
   "execution_count": null,
   "metadata": {
    "collapsed": true
   },
   "outputs": [],
   "source": []
  }
 ],
 "metadata": {
  "kernelspec": {
   "display_name": "Python 3",
   "language": "python",
   "name": "python3"
  },
  "language_info": {
   "codemirror_mode": {
    "name": "ipython",
    "version": 3
   },
   "file_extension": ".py",
   "mimetype": "text/x-python",
   "name": "python",
   "nbconvert_exporter": "python",
   "pygments_lexer": "ipython3",
   "version": "3.6.6"
  }
 },
 "nbformat": 4,
 "nbformat_minor": 2
}
