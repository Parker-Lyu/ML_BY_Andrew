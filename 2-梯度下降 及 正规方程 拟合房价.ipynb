{
 "cells": [
  {
   "cell_type": "code",
   "execution_count": 12,
   "metadata": {
    "collapsed": true
   },
   "outputs": [],
   "source": [
    "import numpy as np\n",
    "import matplotlib.pyplot as plt\n",
    "from pylab import mpl\n",
    "mpl.rcParams['font.sans-serif'] = ['FangSong'] # 指定默认字体\n",
    "mpl.rcParams['axes.unicode_minus'] = False # 解决保存图像是负号'-'显示为方块的问题"
   ]
  },
  {
   "cell_type": "markdown",
   "metadata": {},
   "source": [
    "## 生成房价数据"
   ]
  },
  {
   "cell_type": "code",
   "execution_count": 13,
   "metadata": {},
   "outputs": [
    {
     "data": {
      "text/plain": [
       "array([782, 105, 670, 823, 803, 879, 326, 410, 319, 840, 765, 456, 875,\n",
       "       231, 848, 596, 323, 422, 781, 261, 401, 165, 344, 822, 478, 593,\n",
       "       830, 478, 820, 109, 516, 485, 241, 601, 848, 584, 102, 208, 181,\n",
       "       978, 623, 998, 569, 676, 169, 358, 705, 209, 503, 962, 417, 825,\n",
       "       788, 149, 568, 105, 828, 101, 309, 687, 729, 430, 394, 580, 495,\n",
       "       862, 807, 132, 345, 311, 122, 766, 923, 815, 113, 751, 771, 109,\n",
       "       224, 781, 586, 263, 792, 827, 453, 203, 466, 317, 924, 411, 685,\n",
       "       320, 983, 835, 522, 749, 754, 837, 579, 231])"
      ]
     },
     "execution_count": 13,
     "metadata": {},
     "output_type": "execute_result"
    }
   ],
   "source": [
    "# 面积\n",
    "areas = np.random.randint(100,1000,size=100)\n",
    "areas"
   ]
  },
  {
   "cell_type": "code",
   "execution_count": 14,
   "metadata": {
    "collapsed": true
   },
   "outputs": [],
   "source": [
    "# 线性函数的参数\n",
    "a = 0.4\n",
    "b = 100\n",
    "# 噪音\n",
    "noises = np.random.random(100)*200"
   ]
  },
  {
   "cell_type": "code",
   "execution_count": 15,
   "metadata": {},
   "outputs": [
    {
     "data": {
      "image/png": "[encoded data removed]",
      "text/plain": [
       "<Figure size 720x576 with 1 Axes>"
      ]
     },
     "metadata": {},
     "output_type": "display_data"
    }
   ],
   "source": [
    "# 房价\n",
    "prices = areas * a + b + noises\n",
    "plt.figure(figsize=(10,8))\n",
    "plt.scatter(areas, prices)\n",
    "plt.title(r'房价散点图')\n",
    "plt.ylim(0,800)\n",
    "plt.show()"
   ]
  },
  {
   "cell_type": "markdown",
   "metadata": {},
   "source": [
    "## 梯度下降，求线性函数参数值"
   ]
  },
  {
   "cell_type": "code",
   "execution_count": 16,
   "metadata": {},
   "outputs": [
    {
     "name": "stdout",
     "output_type": "stream",
     "text": [
      "Itera:0   ,cost:15718875.4927  , A:6.6226, B:9.9950\n",
      "Itera:1   ,cost:6382294.7502   , A:4.4711, B:9.9918\n",
      "Itera:2   ,cost:2593359.7727   , A:3.1005, B:9.9898\n",
      "Itera:3   ,cost:1055748.8780   , A:2.2274, B:9.9886\n",
      "Itera:4   ,cost:431761.5888    , A:1.6712, B:9.9878\n",
      "Itera:5   ,cost:178537.4869    , A:1.3169, B:9.9873\n",
      "Itera:6   ,cost:75775.0634     , A:1.0911, B:9.9870\n",
      "Itera:7   ,cost:34072.4144     , A:0.9474, B:9.9868\n",
      "Itera:8   ,cost:17148.8063     , A:0.8558, B:9.9867\n",
      "Itera:9   ,cost:10280.9324     , A:0.7974, B:9.9867\n",
      "Itera:10  ,cost:7493.8375      , A:0.7602, B:9.9867\n",
      "Itera:11  ,cost:6362.7886      , A:0.7366, B:9.9867\n",
      "Itera:12  ,cost:5903.7898      , A:0.7215, B:9.9867\n",
      "Itera:13  ,cost:5717.5198      , A:0.7119, B:9.9867\n",
      "Itera:14  ,cost:5641.9276      , A:0.7057, B:9.9867\n",
      "Itera:15  ,cost:5611.2501      , A:0.7018, B:9.9868\n",
      "Itera:16  ,cost:5598.7998      , A:0.6993, B:9.9868\n",
      "Itera:17  ,cost:5593.7464      , A:0.6978, B:9.9868\n",
      "Itera:18  ,cost:5591.6947      , A:0.6968, B:9.9869\n",
      "Itera:19  ,cost:5590.8612      , A:0.6961, B:9.9869\n",
      "Itera:20  ,cost:5590.5221      , A:0.6957, B:9.9870\n",
      "Itera:21  ,cost:5590.3836      , A:0.6954, B:9.9870\n",
      "Itera:22  ,cost:5590.3265      , A:0.6953, B:9.9870\n",
      "Itera:23  ,cost:5590.3024      , A:0.6952, B:9.9871\n",
      "Itera:24  ,cost:5590.2917      , A:0.6951, B:9.9871\n",
      "Itera:25  ,cost:5590.2865      , A:0.6951, B:9.9872\n",
      "Itera:26  ,cost:5590.2835      , A:0.6950, B:9.9872\n",
      "Itera:27  ,cost:5590.2814      , A:0.6950, B:9.9872\n",
      "Itera:28  ,cost:5590.2796      , A:0.6950, B:9.9873\n",
      "Itera:29  ,cost:5590.2780      , A:0.6950, B:9.9873\n",
      "Itera:30  ,cost:5590.2764      , A:0.6950, B:9.9873\n",
      "Itera:31  ,cost:5590.2749      , A:0.6950, B:9.9874\n",
      "Itera:32  ,cost:5590.2734      , A:0.6950, B:9.9874\n",
      "Itera:33  ,cost:5590.2719      , A:0.6950, B:9.9875\n",
      "Itera:34  ,cost:5590.2704      , A:0.6950, B:9.9875\n",
      "Itera:35  ,cost:5590.2689      , A:0.6950, B:9.9875\n",
      "Itera:36  ,cost:5590.2674      , A:0.6950, B:9.9876\n",
      "Itera:37  ,cost:5590.2659      , A:0.6950, B:9.9876\n",
      "Itera:38  ,cost:5590.2644      , A:0.6950, B:9.9877\n",
      "Itera:39  ,cost:5590.2628      , A:0.6950, B:9.9877\n"
     ]
    }
   ],
   "source": [
    "# 初始化两个参数及设置学习率\n",
    "A = 10.\n",
    "B = 10.\n",
    "lr = 0.000001\n",
    "for i in range(40):\n",
    "    #计算房价\n",
    "    calcu_prices = A * areas + B\n",
    "    # 计算代价函数\n",
    "    cost = (np.square(calcu_prices - prices)).mean() * 0.5\n",
    "    # 计算更正量\n",
    "    deltA = ((calcu_prices-prices)*areas).mean()\n",
    "    deltB = (calcu_prices-prices).mean()\n",
    "    A = A - lr*deltA\n",
    "    B = B - lr*deltB\n",
    "    print(\"Itera:{:<3d} ,cost:{:<15.4f}, A:{:<.4f}, B:{:<.4f}\".format(i, cost, A, B))"
   ]
  },
  {
   "cell_type": "markdown",
   "metadata": {},
   "source": [
    "## 拟合结果"
   ]
  },
  {
   "cell_type": "code",
   "execution_count": 17,
   "metadata": {},
   "outputs": [
    {
     "data": {
      "image/png": "[encoded data removed]",
      "text/plain": [
       "<Figure size 720x576 with 1 Axes>"
      ]
     },
     "metadata": {},
     "output_type": "display_data"
    }
   ],
   "source": [
    "pre_prices = A * areas + B\n",
    "plt.figure(figsize=(10,8))\n",
    "plt.scatter(areas, prices)\n",
    "plt.plot(areas, pre_prices,'r-')\n",
    "plt.ylim(0,800)\n",
    "plt.show()"
   ]
  },
  {
   "cell_type": "markdown",
   "metadata": {
    "collapsed": true
   },
   "source": [
    "# 正规方程拟合房价"
   ]
  },
  {
   "cell_type": "code",
   "execution_count": 18,
   "metadata": {
    "collapsed": true
   },
   "outputs": [],
   "source": [
    "def normalEqn(X, y):\n",
    "    theta = np.linalg.inv(X.T@X)@X.T@y    #X.T@X 等价于 X.T.dot(X)\n",
    "    return theta"
   ]
  },
  {
   "cell_type": "code",
   "execution_count": 19,
   "metadata": {
    "scrolled": true
   },
   "outputs": [
    {
     "data": {
      "text/plain": [
       "array([[  1, 782],\n",
       "       [  1, 105],\n",
       "       [  1, 670],\n",
       "       [  1, 823],\n",
       "       [  1, 803],\n",
       "       [  1, 879],\n",
       "       [  1, 326],\n",
       "       [  1, 410],\n",
       "       [  1, 319],\n",
       "       [  1, 840],\n",
       "       [  1, 765],\n",
       "       [  1, 456],\n",
       "       [  1, 875],\n",
       "       [  1, 231],\n",
       "       [  1, 848],\n",
       "       [  1, 596],\n",
       "       [  1, 323],\n",
       "       [  1, 422],\n",
       "       [  1, 781],\n",
       "       [  1, 261],\n",
       "       [  1, 401],\n",
       "       [  1, 165],\n",
       "       [  1, 344],\n",
       "       [  1, 822],\n",
       "       [  1, 478],\n",
       "       [  1, 593],\n",
       "       [  1, 830],\n",
       "       [  1, 478],\n",
       "       [  1, 820],\n",
       "       [  1, 109],\n",
       "       [  1, 516],\n",
       "       [  1, 485],\n",
       "       [  1, 241],\n",
       "       [  1, 601],\n",
       "       [  1, 848],\n",
       "       [  1, 584],\n",
       "       [  1, 102],\n",
       "       [  1, 208],\n",
       "       [  1, 181],\n",
       "       [  1, 978],\n",
       "       [  1, 623],\n",
       "       [  1, 998],\n",
       "       [  1, 569],\n",
       "       [  1, 676],\n",
       "       [  1, 169],\n",
       "       [  1, 358],\n",
       "       [  1, 705],\n",
       "       [  1, 209],\n",
       "       [  1, 503],\n",
       "       [  1, 962],\n",
       "       [  1, 417],\n",
       "       [  1, 825],\n",
       "       [  1, 788],\n",
       "       [  1, 149],\n",
       "       [  1, 568],\n",
       "       [  1, 105],\n",
       "       [  1, 828],\n",
       "       [  1, 101],\n",
       "       [  1, 309],\n",
       "       [  1, 687],\n",
       "       [  1, 729],\n",
       "       [  1, 430],\n",
       "       [  1, 394],\n",
       "       [  1, 580],\n",
       "       [  1, 495],\n",
       "       [  1, 862],\n",
       "       [  1, 807],\n",
       "       [  1, 132],\n",
       "       [  1, 345],\n",
       "       [  1, 311],\n",
       "       [  1, 122],\n",
       "       [  1, 766],\n",
       "       [  1, 923],\n",
       "       [  1, 815],\n",
       "       [  1, 113],\n",
       "       [  1, 751],\n",
       "       [  1, 771],\n",
       "       [  1, 109],\n",
       "       [  1, 224],\n",
       "       [  1, 781],\n",
       "       [  1, 586],\n",
       "       [  1, 263],\n",
       "       [  1, 792],\n",
       "       [  1, 827],\n",
       "       [  1, 453],\n",
       "       [  1, 203],\n",
       "       [  1, 466],\n",
       "       [  1, 317],\n",
       "       [  1, 924],\n",
       "       [  1, 411],\n",
       "       [  1, 685],\n",
       "       [  1, 320],\n",
       "       [  1, 983],\n",
       "       [  1, 835],\n",
       "       [  1, 522],\n",
       "       [  1, 749],\n",
       "       [  1, 754],\n",
       "       [  1, 837],\n",
       "       [  1, 579],\n",
       "       [  1, 231]])"
      ]
     },
     "execution_count": 19,
     "metadata": {},
     "output_type": "execute_result"
    }
   ],
   "source": [
    "x0 = np.ones_like(areas)\n",
    "x0 = x0.reshape([-1,1])\n",
    "x1 = areas.reshape([-1,1])\n",
    "X_ = np.concatenate([x0,x1],1)\n",
    "X_"
   ]
  },
  {
   "cell_type": "code",
   "execution_count": 20,
   "metadata": {
    "collapsed": true
   },
   "outputs": [],
   "source": [
    "y = prices.reshape([-1,1])\n",
    "theta = normalEqn(X_, y)"
   ]
  },
  {
   "cell_type": "code",
   "execution_count": 21,
   "metadata": {},
   "outputs": [
    {
     "data": {
      "text/plain": [
       "array([208.87404951,   0.39884654])"
      ]
     },
     "execution_count": 21,
     "metadata": {},
     "output_type": "execute_result"
    }
   ],
   "source": [
    "theta = np.squeeze(theta)\n",
    "theta"
   ]
  },
  {
   "cell_type": "code",
   "execution_count": 22,
   "metadata": {},
   "outputs": [
    {
     "data": {
      "image/png": "[encoded data removed]",
      "text/plain": [
       "<Figure size 432x288 with 1 Axes>"
      ]
     },
     "metadata": {},
     "output_type": "display_data"
    }
   ],
   "source": [
    "# x_lin = np.linspace(1,1000,1000)\n",
    "prices_pre = theta[1] * areas + theta[0]\n",
    "plt.scatter(areas, prices)\n",
    "plt.plot(areas, prices_pre, 'r-')\n",
    "plt.xlim(0,1000)\n",
    "plt.ylim(0,800)\n",
    "plt.show()"
   ]
  },
  {
   "cell_type": "markdown",
   "metadata": {
    "collapsed": true
   },
   "source": [
    "## 使用对数函数作为代价函数"
   ]
  },
  {
   "cell_type": "code",
   "execution_count": null,
   "metadata": {
    "collapsed": true
   },
   "outputs": [],
   "source": [
    "A = 10.\n",
    "B = 10.\n",
    "lr = 0.000001"
   ]
  },
  {
   "cell_type": "code",
   "execution_count": 23,
   "metadata": {
    "collapsed": true
   },
   "outputs": [],
   "source": [
    "def linear(x):\n",
    "    return A*x+  B\n",
    "def sigmoid(z):\n",
    "    return 1/(1+np.exp(-z))    \n",
    "def cost(theta,X, y):\n",
    "    theta = np.reshape([-1,1])\n",
    "    X = np.reshape([-1,1])\n",
    "    y = np.reshape([-1,1])\n",
    "    "
   ]
  },
  {
   "cell_type": "code",
   "execution_count": null,
   "metadata": {
    "collapsed": true
   },
   "outputs": [],
   "source": [
    "for i in range(40):\n",
    "    y = sigmoid(linear(areas))\n",
    "    "
   ]
  },
  {
   "cell_type": "code",
   "execution_count": null,
   "metadata": {
    "collapsed": true
   },
   "outputs": [],
   "source": []
  },
  {
   "cell_type": "code",
   "execution_count": null,
   "metadata": {
    "collapsed": true
   },
   "outputs": [],
   "source": []
  },
  {
   "cell_type": "code",
   "execution_count": null,
   "metadata": {
    "collapsed": true
   },
   "outputs": [],
   "source": []
  }
 ],
 "metadata": {
  "kernelspec": {
   "display_name": "Python 3",
   "language": "python",
   "name": "python3"
  },
  "language_info": {
   "codemirror_mode": {
    "name": "ipython",
    "version": 3
   },
   "file_extension": ".py",
   "mimetype": "text/x-python",
   "name": "python",
   "nbconvert_exporter": "python",
   "pygments_lexer": "ipython3",
   "version": "3.6.6"
  }
 },
 "nbformat": 4,
 "nbformat_minor": 2
}
