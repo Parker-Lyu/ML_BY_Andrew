{
 "cells": [
  {
   "cell_type": "markdown",
   "metadata": {},
   "source": [
    "# 接口说明\n",
    "sklearn.decomposition.PCA(n_components=None, copy=True, whiten=False,svd_solver=’auto’, tol=0.0, iterated_power=’auto’, random_state=None)\n",
    "\n",
    "* 这个方法不支持稀疏输入\n",
    "\n",
    "#### 参数\n",
    "* n_components： 要保留的纬度的数量,如果为空，则n_components == min(n_samples,n_features)\n",
    "类型：int 或者 string，缺省时默认为None，所有成分被保留。\n",
    "        if n_components == ‘mle’ and svd_solver == ‘full’，PCA会用MLE算法自动选择一定数量的主成分来降维。\n",
    "        if 0 < n_components < 1 and svd_solver == ‘full’,代表指定了主成分方差所占半分比，算法会自动确定要保留的纬度以使主成分大于所指定阈值；\n",
    "        n_components cannot be equal to n_features for svd_solver == ‘arpack’.\n",
    "\n",
    "* copy: 类型：bool，True或者False，缺省时默认为True。\n",
    "意义：表示是否在运行算法时，将原始训练数据复制一份。\n",
    "        若为True，则运行PCA算法后，原始训练数据的值不会有任何改变，因为是在原始数据的副本上进行运算；\n",
    "        若为False，则运行PCA算法后，原始训练数据的值会改，因为是在原始数据上进行降维计算。\n",
    "* whiten 类型：bool，缺省时默认为False\n",
    "        意义：白化，就是对降维后的数据的每个特征进行归一化，让方差都为1.\n",
    "* svd_solver: 即指定奇异值分解SVD的方法\n",
    "        由于特征分解是奇异值分解SVD的一个特例，一般的PCA库都是基于SVD实现的。有4个可以选择的值：{‘auto’, ‘full’, ‘arpack’, ‘randomized’}。randomized一般适用于数据量大，数据维度多同时主成分比例又较低的PCA降维，它使用了一些加快SVD的随机算法。 full则是传统意义上的SVD，使用了scipy库对应的实现。arpack和randomized的适用场景类似，区别是randomized使用的是scikit-learn自己的SVD实现，而arpack直接使用了scipy库的sparse SVD实现。默认是auto，即PCA类会自己去在前面讲到的三种算法里面去权衡，选择一个合适的SVD算法来降维。一般来说，使用默认值就够了。\n",
    "\n",
    "#### 属性\n",
    "*  components_：array, shape (n_components, n_features)特征空间中的主轴，表示数据中最大方差的方向。返回具有最大方差的成分。\n",
    "* explained_variance_ : array, shape (n_components,) 每个主成分的方差\n",
    "*  explained_variance_ratio_ ：返回 所保留的n个成分各自的方差百分比。\n",
    "*  n_components_：返回所保留的成分个数n。\n",
    "* singular_values_ : array, shape (n_components,) 对应于每个选定成分的奇异值。奇异值等于低维空间中主成分变量的2-范数。\n",
    "* mean_ : array, shape (n_features,) 每个特征的经验平均值，从训练集中得到\n",
    "* n_components_ : int 主成分数量。 从参数中得到。 如果参数中被设置成‘mle’或者0-1之间的数字，这个数字是从输入数据中计算得到； 如果参数设置未空，n_components == min(n_samples,n_features)； "
   ]
  },
  {
   "cell_type": "code",
   "execution_count": 2,
   "metadata": {
    "collapsed": true
   },
   "outputs": [],
   "source": [
    "import numpy as np\n",
    "from sklearn.decomposition import PCAA"
   ]
  },
  {
   "cell_type": "code",
   "execution_count": null,
   "metadata": {
    "collapsed": true
   },
   "outputs": [],
   "source": []
  }
 ],
 "metadata": {
  "kernelspec": {
   "display_name": "Python 3",
   "language": "python",
   "name": "python3"
  },
  "language_info": {
   "codemirror_mode": {
    "name": "ipython",
    "version": 3
   },
   "file_extension": ".py",
   "mimetype": "text/x-python",
   "name": "python",
   "nbconvert_exporter": "python",
   "pygments_lexer": "ipython3",
   "version": "3.6.2"
  }
 },
 "nbformat": 4,
 "nbformat_minor": 2
}
